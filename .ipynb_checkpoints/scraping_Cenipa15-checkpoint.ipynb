{
 "cells": [
  {
   "cell_type": "markdown",
   "metadata": {
    "colab_type": "text",
    "id": "wnD46ADNp9hA"
   },
   "source": [
    "Importa as bibliotecas de funcionalidades que usaremos.\n"
   ]
  },
  {
   "cell_type": "code",
   "execution_count": 1,
   "metadata": {
    "colab": {},
    "colab_type": "code",
    "id": "ZszJveK_bTqP"
   },
   "outputs": [],
   "source": [
    "import pandas as pd\n",
    "import glob\n",
    "from datetime import date\n",
    "import numpy as np"
   ]
  },
  {
   "cell_type": "markdown",
   "metadata": {
    "colab_type": "text",
    "id": "GUPkwT-OqI-f"
   },
   "source": [
    "Importa as planilhas com os dados de aeródromos brasileiros para DataFrames. \n"
   ]
  },
  {
   "cell_type": "code",
   "execution_count": null,
   "metadata": {
    "colab": {},
    "colab_type": "code",
    "id": "fexVznVtVUkU"
   },
   "outputs": [],
   "source": [
    "aero_publicos=pd.read_excel('BasesCenipa/aerodromospublicos-12.xls', skiprows=2)\n",
    "aero_privados=pd.read_excel('BasesCenipa/aerodromosprivados-9.xls')"
   ]
  },
  {
   "cell_type": "markdown",
   "metadata": {
    "colab_type": "text",
    "id": "jy2JL2R5qeMZ"
   },
   "source": [
    "1.   Mescla em um único DataFrame as duas planilhas importadas.\n",
    "2.   Cria uma lista de código OACI de todos os aeroportos do Brasil.\n",
    "3.   Verifica o tipo do dado de cada item da lista.\n",
    "4.   Deleta aquele item que for um número inteiro.\n",
    "5.   Procura pelo item 'SNRA*'\n",
    "6.   Substitui o item acima por 'SNRA'\n",
    "\n",
    "Os itens 3 a 6 foram criados para corrigir erros da planilha excel importada.\n",
    "\n"
   ]
  },
  {
   "cell_type": "code",
   "execution_count": null,
   "metadata": {
    "colab": {},
    "colab_type": "code",
    "id": "3mGVDK6SNLAz"
   },
   "outputs": [],
   "source": [
    "df_aero_pub_e_priv=pd.merge(aero_publicos, aero_privados, how='outer').drop_duplicates(subset='CÓDIGO OACI') # Tira duplicado com base na coluna 'CÓDIGO\n",
    "aero_pub_e_priv=list(df_aero_pub_e_priv['CÓDIGO OACI'])\n",
    "ls= [type(item) for item in aero_pub_e_priv]\n",
    "aero_pub_e_priv.pop(ls.index(int))\n",
    "snra=aero_pub_e_priv.index('SNRA*')\n",
    "aero_pub_e_priv[snra]='SNRA'"
   ]
  },
  {
   "cell_type": "markdown",
   "metadata": {
    "colab_type": "text",
    "id": "2dO_F_bUukdJ"
   },
   "source": [
    "Cria lista de código OACI de aeroportos públicos. Roda a rotina para verificar se existe algum número inteiro e dropa se tiver."
   ]
  },
  {
   "cell_type": "code",
   "execution_count": null,
   "metadata": {
    "colab": {},
    "colab_type": "code",
    "id": "8ve8SoroNjlz"
   },
   "outputs": [],
   "source": [
    "lista_aero_oaci_publico=list(aero_publicos['CÓDIGO OACI'])\n",
    "try:\n",
    "  ls= [type(item) for item in lista_aero_oaci_publico]\n",
    "  lista_aero_oaci_publico.pop(ls.index(int))\n",
    "except:\n",
    "  None"
   ]
  },
  {
   "cell_type": "markdown",
   "metadata": {
    "colab_type": "text",
    "id": "93fsHMljuwjm"
   },
   "source": [
    "Cria lista de código OACI de aeroportos privados. Roda a rotina para verificar se existe algum número inteiro e dropa se tiver."
   ]
  },
  {
   "cell_type": "code",
   "execution_count": null,
   "metadata": {
    "colab": {},
    "colab_type": "code",
    "id": "yjdiv6wpOhuh"
   },
   "outputs": [],
   "source": [
    "lista_aero_oaci_privado=list(aero_privados['CÓDIGO OACI'])\n",
    "try:\n",
    "  ls= [type(item) for item in lista_aero_oaci_privado]\n",
    "  lista_aero_oaci_privado.pop(ls.index(int))\n",
    "except:\n",
    "  None\n",
    "lista_aero_oaci_privado=sorted(lista_aero_oaci_privado)"
   ]
  },
  {
   "cell_type": "markdown",
   "metadata": {
    "colab_type": "text",
    "id": "jRZjRL3iu6Re"
   },
   "source": [
    "Cria uma data final pelo dia de hoje.\n"
   ]
  },
  {
   "cell_type": "code",
   "execution_count": null,
   "metadata": {
    "colab": {},
    "colab_type": "code",
    "id": "iVFFmyasXMn7"
   },
   "outputs": [],
   "source": [
    "data=date.today()\n",
    "dia=data.strftime('%d')\n",
    "mes=data.strftime('%m')\n",
    "ano=data.year\n",
    "datafinal=str(dia)+\"%2F\"+str(mes)+\"%2F\"+str(ano)"
   ]
  },
  {
   "cell_type": "markdown",
   "metadata": {
    "colab_type": "text",
    "id": "RFpUoS8fu_cG"
   },
   "source": [
    "Lista os aeroportos já baixados e ajusta a lista para aeroportos que faltam baixar. Foi criado por culpa de falha na hora de fazer download de dados de alguns aeroportos com muitas informações.\n"
   ]
  },
  {
   "cell_type": "code",
   "execution_count": null,
   "metadata": {
    "colab": {},
    "colab_type": "code",
    "id": "-kk4-K7U2xx1"
   },
   "outputs": [],
   "source": [
    "def para_baixar():\n",
    "    global aeroportos_para_baixar\n",
    "    aeroportos_na_pasta=glob.glob('BasesCenipa/ficheiro *.csv')\n",
    "    aeroportos_ja_baixados=[]\n",
    "    for item in aeroportos_na_pasta: aeroportos_ja_baixados.append(str(item[21:25]))\n",
    "    aeroportos_para_baixar=list(np.setdiff1d(aero_pub_e_priv, aeroportos_ja_baixados))"
   ]
  },
  {
   "cell_type": "markdown",
   "metadata": {
    "colab_type": "text",
    "id": "ii2TaxxbRhMl"
   },
   "source": [
    "Primeira etapa do download dos arquivos do Cenipa. Tenta baixar todos os dados daquele aeroporto, sem definir o ano. Gera uma lista daqueles aeroportos não baixados para segunda etapa de download.\n",
    "\n",
    "PRECISA CORRIGIR A FALHA DO \"FALTAM XXX DE XXX PARA TENTAR BAIXAR\". Não está reduzindo a medida que baixa."
   ]
  },
  {
   "cell_type": "code",
   "execution_count": null,
   "metadata": {
    "cellView": "code",
    "colab": {},
    "colab_type": "code",
    "id": "4kKlwNRFfwZ4"
   },
   "outputs": [],
   "source": [
    "nao_baixados=[]\n",
    "ficheiro={}\n",
    "para_baixar()\n",
    "for aeroporto in aeroportos_para_baixar:\n",
    "  try:\n",
    "    url=f'http://sistema.cenipa.aer.mil.br/cenipa/sigra/export_excel?sigra=pesquisa&identificacao=&matricula=&ano_pesquisa=&data_inicial=01%2F01%2F2011&data_final={datafinal}&ICAO={aeroporto}&tipoReporte=&classificacao_ocorrencia=&Parte_da_aeronave=&area_seguranca=&Especie=&aviacaoTipo=&Danos_Prejuizos=&anvOperador=&Efeito_no_voo=&codicoes_ceu=&tripulacao_alertada=&Fase_do_Voo=&parte_dia=&precipitacao=&funcao=&pg=1&Submit=Executar+pesquisa'\n",
    "    ler_arquivo=pd.read_html(url)\n",
    "    ficheiro[aeroporto]=pd.DataFrame(ler_arquivo[0]).droplevel(1,axis=1).fillna(0)\n",
    "    ficheiro[aeroporto].to_csv(f'BasesCenipa/ficheiro {aeroporto}.csv')\n",
    "    print(f'O arquivo do aeroporto {aeroporto} foi criado.')\n",
    "  except:\n",
    "    print(f'Não foi possível importar do aeroporto {aeroporto}.')\n",
    "    if aeroporto not in nao_baixados:\n",
    "      nao_baixados.append(aeroporto)\n",
    "  finally:\n",
    "    para_baixar()\n",
    "    print(f'Faltam {len(aeroportos_para_baixar)} de {len(aero_pub_e_priv)} para tentar baixar. \\nNão foi possível baixar dados de {len(nao_baixados)} aeroportos.')\n",
    "else:\n",
    "  print(\"Os aeroportos abaixo serão baixados de ano em ano: \", nao_baixados, )"
   ]
  },
  {
   "cell_type": "markdown",
   "metadata": {
    "colab_type": "text",
    "id": "VJ4WP6a7k1EA"
   },
   "source": [
    "Com base na lista de aeroportos não baixados na primeira etapa, gera um dicionário onde a chave é o aeroporto e os valores são os anos para baixar."
   ]
  },
  {
   "cell_type": "code",
   "execution_count": null,
   "metadata": {
    "colab": {},
    "colab_type": "code",
    "id": "ZuT2bJL2O_ML"
   },
   "outputs": [],
   "source": [
    "anos = ['2011','2012','2013','2014','2015','2016','2017','2018','2019','2020']\n",
    "aeroporto_ano_para_baixar={}\n",
    "for aeroporto in nao_baixados:\n",
    "  aeroporto_ano_para_baixar[aeroporto]=anos\n",
    "aeroporto_ano_para_baixar\n",
    "print(aeroporto_ano_para_baixar)"
   ]
  },
  {
   "cell_type": "markdown",
   "metadata": {
    "colab_type": "text",
    "id": "KJEQAnYnlADj"
   },
   "source": [
    "Código abaixo é para identificar aqueles anos já baixados dos dados que não foram baixados na primeira etapa de download. \n",
    "Cria uma dicionário onde a key é o aeroporto onde precisa baixar algum ano e os valores são os anos a serem baixados.\n",
    "Compara um dicionário de dados por ano já baixados com aqueles para baixar criados na primeira etapa.\n"
   ]
  },
  {
   "cell_type": "code",
   "execution_count": null,
   "metadata": {
    "colab": {},
    "colab_type": "code",
    "id": "HuEboF8CVtjU"
   },
   "outputs": [],
   "source": [
    "aeroporto_ano_na_pasta=glob.glob('BasesCenipa/ficheiro_*_*.csv')\n",
    "lista_aeroporto_ano_ja_baixado=[]\n",
    "dict_aeroporto_ano_ja_baixado={}\n",
    "aeroportos_anos_para_baixar={}\n",
    "for arquivo in aeroporto_ano_na_pasta:\n",
    "  lista_aeroporto_ano_ja_baixado.append(str(arquivo[21:25])) if str(arquivo[21:25]) not in lista_aeroporto_ano_ja_baixado else None\n",
    "for oaci in lista_aeroporto_ano_ja_baixado:\n",
    "  aeroporto_ano_na_pasta=glob.glob(f'BasesCenipa/ficheiro_{oaci}*.csv')\n",
    "  for arquivo_baixado_ano in aeroporto_ano_na_pasta:\n",
    "    if dict_aeroporto_ano_ja_baixado.get(oaci) == None:\n",
    "      dict_aeroporto_ano_ja_baixado[oaci]=[str(arquivo_baixado_ano[26:30])]\n",
    "    else:\n",
    "      dict_aeroporto_ano_ja_baixado[oaci].append(str(arquivo_baixado_ano[26:30]))\n",
    "for oaci in nao_baixados:\n",
    "  if dict_aeroporto_ano_ja_baixado.get(oaci) == None:\n",
    "    aeroportos_anos_para_baixar[oaci]=anos\n",
    "  else:\n",
    "    if len(dict_aeroporto_ano_ja_baixado[oaci]) < 10:\n",
    "      aeroportos_anos_para_baixar[oaci]=list(np.setdiff1d(aeroporto_ano_para_baixar[oaci], dict_aeroporto_ano_ja_baixado[oaci]))"
   ]
  },
  {
   "cell_type": "code",
   "execution_count": null,
   "metadata": {
    "colab": {},
    "colab_type": "code",
    "id": "gSwr-iFHVlAq"
   },
   "outputs": [],
   "source": [
    "print(dict_aeroporto_ano_ja_baixado)\n",
    "print(aeroporto_ano_para_baixar)\n",
    "print(aeroportos_anos_para_baixar)"
   ]
  },
  {
   "cell_type": "markdown",
   "metadata": {
    "colab_type": "text",
    "id": "ZtF9xyOjUh_D"
   },
   "source": [
    "Segunda etapa de download - após verificar quais são os aeroportos para baixar e os anos que sobraram para baixar, baixa aqueles anos que faltam para cada aeroporto. \n",
    "\n",
    "Cria uma dicionario de anos por aeroporto que não foram baixados."
   ]
  },
  {
   "cell_type": "code",
   "execution_count": null,
   "metadata": {
    "colab": {},
    "colab_type": "code",
    "id": "P8OhIdk8EZzS"
   },
   "outputs": [],
   "source": [
    "ano_nao_baixado={}\n",
    "for aeroporto in list(aeroportos_anos_para_baixar.keys()):\n",
    "  for ano in aeroportos_anos_para_baixar[aeroporto]:\n",
    "    try:\n",
    "      url=f'http://sistema.cenipa.aer.mil.br/cenipa/sigra/export_excel?sigra=pesquisa&identificacao=&matricula=&ano_pesquisa={ano}&data_inicial=&data_final=&ICAO={aeroporto}&tipoReporte=&classificacao_ocorrencia=&Parte_da_aeronave=&area_seguranca=&Especie=&aviacaoTipo=&Danos_Prejuizos=&anvOperador=&Efeito_no_voo=&codicoes_ceu=&tripulacao_alertada=&Fase_do_Voo=&parte_dia=&precipitacao=&funcao=&pg=1&Submit=Executar+pesquisa'\n",
    "      ler_arquivo=pd.read_html(url)\n",
    "      ler_arquivo=pd.DataFrame(ler_arquivo[0]).droplevel(1,axis=1).fillna(0)\n",
    "      ler_arquivo.to_csv(f'BasesCenipa/ficheiro_{aeroporto}_{ano}.csv')\n",
    "      print(f'O arquivo do aeroporto {aeroporto} para ano de {ano} foi criado. \\n')\n",
    "    except:\n",
    "      print(f'Não foi possível importar do aeroporto {aeroporto} ano {ano}. \\n')\n",
    "      if ano_nao_baixado.get(aeroporto) == None:\n",
    "        ano_nao_baixado[aeroporto]=[ano]\n",
    "      else:\n",
    "        ano_nao_baixado[aeroporto].append([ano])\n",
    "print(ano_nao_baixado)"
   ]
  },
  {
   "cell_type": "code",
   "execution_count": null,
   "metadata": {
    "colab": {},
    "colab_type": "code",
    "id": "gTpzlezA5cqE"
   },
   "outputs": [],
   "source": [
    "for aeroporto in ano_nao_baixado:\n",
    "  for ano in ano_nao_baixado[aeroporto]:\n",
    "    url=f'http://sistema.cenipa.aer.mil.br/cenipa/sigra/export_excel?sigra=pesquisa&identificacao=&matricula=&ano_pesquisa=&data_inicial=01%2F01%2F{ano}&data_final=30%2F06%2F{ano}&ICAO={aeroporto}&tipoReporte=&classificacao_ocorrencia=&Parte_da_aeronave=&area_seguranca=&Especie=&aviacaoTipo=&Danos_Prejuizos=&anvOperador=&Efeito_no_voo=&codicoes_ceu=&tripulacao_alertada=&Fase_do_Voo=&parte_dia=&precipitacao=&funcao=&pg=1&Submit=Executar+pesquisa'\n",
    "    url1=f'http://sistema.cenipa.aer.mil.br/cenipa/sigra/export_excel?sigra=pesquisa&identificacao=&matricula=&ano_pesquisa=&data_inicial=01%2F07%2F{ano}&data_final=31%2F12%2F{ano}&ICAO={aeroporto}&tipoReporte=&classificacao_ocorrencia=&Parte_da_aeronave=&area_seguranca=&Especie=&aviacaoTipo=&Danos_Prejuizos=&anvOperador=&Efeito_no_voo=&codicoes_ceu=&tripulacao_alertada=&Fase_do_Voo=&parte_dia=&precipitacao=&funcao=&pg=1&Submit=Executar+pesquisa'\n",
    "    ler_arquivo=pd.read_html(url)\n",
    "    ler_arquivo=pd.DataFrame(ler_arquivo[0]).droplevel(1,axis=1).fillna(0)\n",
    "    ler_arquivo.to_csv(f'BasesCenipa/ficheiro_{aeroporto}_{ano}_1º.csv')\n",
    "    print(f'O arquivo {aeroporto} ano {ano} 1º Semestre foi baixado!')\n",
    "    ler_arquivo=pd.read_html(url1)\n",
    "    ler_arquivo=pd.DataFrame(ler_arquivo[0]).droplevel(1,axis=1).fillna(0)\n",
    "    ler_arquivo.to_csv(f'BasesCenipa/ficheiro_{aeroporto}_{ano}_2º.csv')\n",
    "    print(f'O arquivo {aeroporto} ano {ano} 2º Semestre foi baixado!')\n",
    "    "
   ]
  },
  {
   "cell_type": "code",
   "execution_count": null,
   "metadata": {
    "colab": {},
    "colab_type": "code",
    "id": "lrQlQiXzNnJn"
   },
   "outputs": [],
   "source": [
    "arquivos= glob.glob(\"BasesCenipa/ficheiro*.csv\")"
   ]
  },
  {
   "cell_type": "code",
   "execution_count": null,
   "metadata": {
    "colab": {},
    "colab_type": "code",
    "id": "DmdoeSaqNqHz"
   },
   "outputs": [],
   "source": [
    "base={}\n",
    "n=1\n",
    "colunas = list(range(1,42,1))\n",
    "for arquivo in arquivos:\n",
    "  ler_arquivo=pd.read_csv(arquivo, usecols=colunas)\n",
    "  print(f'Arquivo {arquivo} lido.')\n",
    "  n=n+1\n",
    "  base[str(n)]=ler_arquivo"
   ]
  },
  {
   "cell_type": "code",
   "execution_count": null,
   "metadata": {
    "colab": {},
    "colab_type": "code",
    "id": "HvJmN13_Nwak"
   },
   "outputs": [],
   "source": [
    "cenipa_df=pd.concat(base,ignore_index=True)"
   ]
  },
  {
   "cell_type": "code",
   "execution_count": null,
   "metadata": {
    "colab": {},
    "colab_type": "code",
    "id": "yGts0Qc0Nz34"
   },
   "outputs": [],
   "source": [
    "cenipa_df.to_csv('BasesCenipa/cenipa_df.csv')"
   ]
  },
  {
   "cell_type": "code",
   "execution_count": null,
   "metadata": {},
   "outputs": [],
   "source": []
  }
 ],
 "metadata": {
  "colab": {
   "authorship_tag": "ABX9TyPD5sFbfy2TiqE/BELolMV+",
   "collapsed_sections": [],
   "mount_file_id": "1AMRBhRfO7eJa-a9NDrsmMWoOIkbns_CW",
   "name": "scraping_Cenipa15",
   "provenance": []
  },
  "kernelspec": {
   "display_name": "Python 3",
   "language": "python",
   "name": "python3"
  },
  "language_info": {
   "codemirror_mode": {
    "name": "ipython",
    "version": 3
   },
   "file_extension": ".py",
   "mimetype": "text/x-python",
   "name": "python",
   "nbconvert_exporter": "python",
   "pygments_lexer": "ipython3",
   "version": "3.7.6"
  }
 },
 "nbformat": 4,
 "nbformat_minor": 1
}
